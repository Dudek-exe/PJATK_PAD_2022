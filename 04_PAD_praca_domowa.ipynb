{
  "nbformat": 4,
  "nbformat_minor": 0,
  "metadata": {
    "colab": {
      "provenance": [],
      "include_colab_link": true
    },
    "kernelspec": {
      "name": "python3",
      "display_name": "Python 3"
    },
    "language_info": {
      "name": "python"
    }
  },
  "cells": [
    {
      "cell_type": "markdown",
      "metadata": {
        "id": "view-in-github",
        "colab_type": "text"
      },
      "source": [
        "<a href=\"https://colab.research.google.com/github/Dudek-exe/PJATK_PAD_2022/blob/main/04_PAD_praca_domowa.ipynb\" target=\"_parent\"><img src=\"https://colab.research.google.com/assets/colab-badge.svg\" alt=\"Open In Colab\"/></a>"
      ]
    },
    {
      "cell_type": "markdown",
      "source": [
        "Zadanie 1 (5 pkt)\n",
        "\n",
        "\n",
        "Wgraj zawartość pliku orders.csv do ramki danych.\n",
        "Przyjrzyj się danym, wykorzystując poznane metody (describe, info, head) zanalizuj dane.\n",
        "\n",
        "Następnie:\n",
        "\n",
        "\n",
        "\n",
        "1. Zamień order_date na format daty. Upewnij się, że w rezultacie data będzie w formacie: rok-miesiąc-dzień;\n",
        "2. Sprawdź ile i jakie unikalne wartości znajdują się w kolumnie T-shirt category;\n",
        "3. Wyczyść kolumnę tshirt_category normalizując nazwy produktów. Upewnij się, że dla każdej kategorii funkcjonuje jedna nazwa, np. zamiast white i wh jest tylko jedna wersja white. Skorzystaj z klasy string i metody apply;\n",
        "4. Rozdziel kolumnę tshirt category na 3 kolumny: tshirt_type, która będzie mówiła o tym czy jest to koszulka, bluza czy coś innego, tshirt_size, która będzie informowała o rozmiarze koszulki, i tshirt_colour, która będzie informowała o kolorze. Skorzystaj z metody apply.\n",
        "5. Znajdź zamówienia złożone między 31 grudnia 2014 a 2 sierpnia 2016.\n"
      ],
      "metadata": {
        "id": "6s5atoa1swg0"
      }
    },
    {
      "cell_type": "code",
      "execution_count": 54,
      "metadata": {
        "id": "Ktake9Iqsl1O",
        "colab": {
          "base_uri": "https://localhost:8080/"
        },
        "outputId": "df34bad2-26a6-4155-974e-2f8650e0ff4d"
      },
      "outputs": [
        {
          "output_type": "stream",
          "name": "stdout",
          "text": [
            "1. DataFrame z formatem daty: \n",
            "       order_date  pages_visited         order_id customer_id  tshirt_category  \\\n",
            "0     2016-09-04              9  HTS-038040-0002      038040  White T-Shirt M   \n",
            "1     2014-11-14             11  HTS-801797-0001      801797  White T-Shirt M   \n",
            "2     2017-02-26             10  HTS-vft1eu-0003      vft1eu  White T-Shirt F   \n",
            "3     2013-12-01             10  HTS-914324-0001      914324      Wh Tshirt F   \n",
            "4     2015-10-22             12  HTS-88ua9r-0001      88ua9r  White T-Shirt M   \n",
            "...          ...            ...              ...         ...              ...   \n",
            "26547 2016-11-19             13  HTS-n641x4-0001      n641x4  White T-Shirt M   \n",
            "26548 2016-08-02              4  HTS-q0nm12-0001      q0nm12  White T-Shirt M   \n",
            "26549 2017-03-09              6  HTS-sby0iz-0001      sby0iz  White T-Shirt M   \n",
            "26550 2016-10-04             11  HTS-uz70x4-0001      uz70x4           Hoodie   \n",
            "26551 2016-12-16              9  HTS-xnbc22-0001      xnbc22  Black T-Shirt M   \n",
            "\n",
            "       tshirt_price  tshirt_quantity  \n",
            "0              20.0                1  \n",
            "1              20.0                1  \n",
            "2              18.0                3  \n",
            "3              18.0                1  \n",
            "4              20.0                1  \n",
            "...             ...              ...  \n",
            "26547          20.0                1  \n",
            "26548          20.0                1  \n",
            "26549          20.0                1  \n",
            "26550          23.0                5  \n",
            "26551          19.0                3  \n",
            "\n",
            "[26552 rows x 7 columns]\n",
            "2. Unikalne rodzaje koszulek: \n",
            " Hoodie             6229\n",
            "White T-Shirt M    5547\n",
            "Black T-Shirt M    4454\n",
            "White T-Shirt F    3513\n",
            "Black T-Shirt F    3248\n",
            "Tennis Shirt       2153\n",
            "Wh Tshirt M         462\n",
            "Bl Tshirt M         377\n",
            "Wh Tshirt F         312\n",
            "Bl Tshirt F         257\n",
            "Name: tshirt_category, dtype: int64\n"
          ]
        }
      ],
      "source": [
        "import pandas as pd\n",
        "from datetime import datetime\n",
        "\n",
        "df = pd.read_csv('orders.csv', sep = ',')\n",
        "df['order_date'] =  pd.to_datetime(df['order_date'], format='%Y.%m.%d')\n",
        "\n",
        "print('1. DataFrame z formatem daty: \\n' , df)\n",
        "print('2. Unikalne rodzaje koszulek: \\n', df['tshirt_category'].value_counts())\n",
        "\n",
        "df['tshirt_category'] = df['tshirt_category'].apply(lambda x: '{0:0>8}'.format(x)))\n"
      ]
    },
    {
      "cell_type": "markdown",
      "source": [
        "Zadanie 2 (4 pkt)\n",
        "\n",
        "\n",
        "Wgraj plik customers.csv do ramki danych. \n",
        "\n",
        "Następnie:\n",
        "1. Wypisz kolumny;\n",
        "2. Porównaj rozmiar ramki z rozmiarem ramki w zadaniu 1;\n",
        "3. Zmień nazwę kolumny customerID  na customer_id upewniając się, że dane zmiana zostanie zapisana w pamięci dzięki jednemu z argumentów metody do zmiany nazwy kolumny;\n",
        "4. Połącz ramkę orders z ramką customers po kolumnie customer_id. Z której metody skorzystasz? Zostaw odpowiedź w komentarzu do zadania w kodzie (np. blok komentarzem ‘’’ ‘’’).\n"
      ],
      "metadata": {
        "id": "g0QB8rtHtGhT"
      }
    },
    {
      "cell_type": "code",
      "source": [],
      "metadata": {
        "id": "_rfPFhLGtRm-"
      },
      "execution_count": null,
      "outputs": []
    },
    {
      "cell_type": "markdown",
      "source": [
        "Zadanie 3 (1 pkt)\n",
        "\n",
        "Nową ramkę (połączenie orders i customers) zapisz do pliku csv, ale zapisz bez kolumny z indeksem.\n"
      ],
      "metadata": {
        "id": "bCKqMqJQtR8s"
      }
    },
    {
      "cell_type": "code",
      "source": [],
      "metadata": {
        "id": "J2gA9RVStSTa"
      },
      "execution_count": null,
      "outputs": []
    }
  ]
}